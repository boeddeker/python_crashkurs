{
 "cells": [
  {
   "cell_type": "markdown",
   "metadata": {},
   "source": [
    "## Modulimport"
   ]
  },
  {
   "cell_type": "code",
   "execution_count": null,
   "metadata": {},
   "outputs": [],
   "source": [
    "%matplotlib notebook\n",
    "import numpy as np\n",
    "import pandas as pd\n",
    "import time\n",
    "\n",
    "import matplotlib.pyplot as plt\n",
    "import seaborn as sns\n",
    "\n",
    "sns.set_style('whitegrid')"
   ]
  },
  {
   "cell_type": "markdown",
   "metadata": {},
   "source": [
    "## Daten Laden\n",
    "Als erstes Laden wir die Daten aus der Datei `pandas_1.hdf`"
   ]
  },
  {
   "cell_type": "code",
   "execution_count": null,
   "metadata": {},
   "outputs": [],
   "source": [
    "data = pd.read_hdf('pandas_1.hdf', 'data')\n",
    "data.head()"
   ]
  },
  {
   "cell_type": "markdown",
   "metadata": {},
   "source": [
    "## A1: Daten Vorverarbeiten\n",
    "##### 1. Setze den Index auf die Spalte ``Rohrnummer``"
   ]
  },
  {
   "cell_type": "code",
   "execution_count": null,
   "metadata": {},
   "outputs": [],
   "source": []
  },
  {
   "cell_type": "markdown",
   "metadata": {},
   "source": [
    "##### 2. Sortiere den DataFrame so um, dass für jedes ``Feature`` eine Spalte erzeugt wird. (Hinweis: Pivot)"
   ]
  },
  {
   "cell_type": "code",
   "execution_count": null,
   "metadata": {},
   "outputs": [],
   "source": []
  },
  {
   "cell_type": "markdown",
   "metadata": {},
   "source": [
    "##### 3. Wie viele NaN Werte kommen je Spalte vor?"
   ]
  },
  {
   "cell_type": "code",
   "execution_count": null,
   "metadata": {},
   "outputs": [],
   "source": []
  },
  {
   "cell_type": "markdown",
   "metadata": {},
   "source": [
    "## A2: Daten Auswerten"
   ]
  },
  {
   "cell_type": "markdown",
   "metadata": {},
   "source": [
    "##### 4. Stelle in einem Scatter-Plot den Zusammenhang zwischen ``Blockgewicht_``  und ``Zunderverlust`` grafisch da\n",
    "Verwende hierzu einerseits die funktion ``plt.scatter()`` und andererseits ``sns.jointplot()`` mit dem zusätlichen Keyword-Argument ``kind='kde'``."
   ]
  },
  {
   "cell_type": "code",
   "execution_count": null,
   "metadata": {},
   "outputs": [],
   "source": []
  },
  {
   "cell_type": "code",
   "execution_count": null,
   "metadata": {
    "scrolled": false
   },
   "outputs": [],
   "source": []
  },
  {
   "cell_type": "markdown",
   "metadata": {},
   "source": [
    "##### 5. Berechne die Korrelation zwischen ``Blockgewicht``  und ``Zunderverlust`` "
   ]
  },
  {
   "cell_type": "code",
   "execution_count": null,
   "metadata": {},
   "outputs": [],
   "source": []
  },
  {
   "cell_type": "markdown",
   "metadata": {},
   "source": [
    "###### 6. Wahrscheinlichkeitsdichte Schätzen.\n",
    "Schätze nun die Parameter $\\mu$ und $\\sigma$ für eine Normalverteilung für ``Zunderverlust``. Stelle anschließend die geschätzte Normalverteilung zusammen mit den Daten in einem Histogramm graphisch da.\n",
    "\n",
    "Hinweis: Funktionen zum fitten und berechnen diverser Verteilungen sind in dem Paket ``scipy.stats`` verfügbar. (z.b. ``scipy.stats.norm`` für Normalverteilungen). Die Dokumentation ist online verfügbar:\n",
    "https://docs.scipy.org/doc/scipy/reference/stats.html"
   ]
  },
  {
   "cell_type": "code",
   "execution_count": null,
   "metadata": {},
   "outputs": [],
   "source": []
  },
  {
   "cell_type": "markdown",
   "metadata": {},
   "source": [
    "##### 6. Bonusaufgabe: Robust Polyfit\n",
    "Wir versuchen nun den Zusammenhang zwischen Blockgewicht und Zunderverlust robust linear zu modellieren. Verwende hierzu einerseits die Funktion den RANSAC-Regressor im Paket ``sklearn``. (``from sklearn.linear_model import RANSACRegressor``).\n",
    "Stelle anschließend die Regressionsgerade in einem Plot graphisch dar.\n",
    "\n",
    "Dokumentation: http://scikit-learn.org/stable/modules/generated/sklearn.linear_model.RANSACRegressor.html\n",
    "\n",
    "Hinweise:\n",
    "* Entferne zunächst fehlende Zeilen aus dem DataFrame (Tipp: ``.dropna()``)\n",
    "* Die .fit()-Methode benötigt einen 2-Dimensionalen Eingang.\n",
    "* Für bessere Ergebnisse initalisiere den RANSACRegressor mit dem optionalen keyword-argument ``resudual_treshold`` wie folgt: ``RANSACRegressor(residual_threshold=1)``"
   ]
  },
  {
   "cell_type": "code",
   "execution_count": null,
   "metadata": {},
   "outputs": [],
   "source": [
    "from sklearn.linear_model import RANSACRegressor"
   ]
  },
  {
   "cell_type": "code",
   "execution_count": null,
   "metadata": {},
   "outputs": [],
   "source": []
  },
  {
   "cell_type": "code",
   "execution_count": null,
   "metadata": {},
   "outputs": [],
   "source": []
  }
 ],
 "metadata": {
  "kernelspec": {
   "display_name": "Python 3",
   "language": "python",
   "name": "python3"
  },
  "language_info": {
   "codemirror_mode": {
    "name": "ipython",
    "version": 3
   },
   "file_extension": ".py",
   "mimetype": "text/x-python",
   "name": "python",
   "nbconvert_exporter": "python",
   "pygments_lexer": "ipython3",
   "version": "3.6.5"
  },
  "varInspector": {
   "cols": {
    "lenName": 16,
    "lenType": 16,
    "lenVar": 40
   },
   "kernels_config": {
    "python": {
     "delete_cmd_postfix": "",
     "delete_cmd_prefix": "del ",
     "library": "var_list.py",
     "varRefreshCmd": "print(var_dic_list())"
    },
    "r": {
     "delete_cmd_postfix": ") ",
     "delete_cmd_prefix": "rm(",
     "library": "var_list.r",
     "varRefreshCmd": "cat(var_dic_list()) "
    }
   },
   "types_to_exclude": [
    "module",
    "function",
    "builtin_function_or_method",
    "instance",
    "_Feature"
   ],
   "window_display": false
  }
 },
 "nbformat": 4,
 "nbformat_minor": 2
}
