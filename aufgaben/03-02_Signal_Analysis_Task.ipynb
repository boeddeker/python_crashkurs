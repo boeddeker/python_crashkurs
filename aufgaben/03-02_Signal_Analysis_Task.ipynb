{
 "cells": [
  {
   "cell_type": "markdown",
   "metadata": {},
   "source": [
    "# Signalanalyse\n",
    "\n",
    "## Laden der benötigten Pakete"
   ]
  },
  {
   "cell_type": "code",
   "execution_count": null,
   "metadata": {},
   "outputs": [],
   "source": [
    "import matplotlib.pyplot as plt\n",
    "from matplotlib.dates import DateFormatter\n",
    "import numpy as np\n",
    "import pandas as pd\n",
    "from scipy import fftpack\n",
    "% matplotlib inline"
   ]
  },
  {
   "cell_type": "markdown",
   "metadata": {},
   "source": [
    "Festlegung einiger visueller Einstellungen"
   ]
  },
  {
   "cell_type": "code",
   "execution_count": null,
   "metadata": {},
   "outputs": [],
   "source": [
    "# Größe\n",
    "plt.rcParams['figure.figsize'] = [10.0, 3.0]\n",
    "# Auflösung\n",
    "plt.rcParams['figure.dpi'] = 100\n",
    "# Komma statt Punkt\n",
    "plt.rcParams['axes.formatter.use_locale'] = True"
   ]
  },
  {
   "cell_type": "markdown",
   "metadata": {},
   "source": [
    "## Analyse einer harmonische Schwingungen\n",
    "Im folgenden soll nun eine harmonische Schwingungen analysiert werden, die in vielen elektrischen Maschinen, z.B. Motoren und Induktivanlagen auftreten."
   ]
  },
  {
   "cell_type": "code",
   "execution_count": null,
   "metadata": {
    "tags": [
     "remove-cell"
    ]
   },
   "outputs": [],
   "source": [
    "# generate signals for voltage and current\n",
    "fs = 10e6\n",
    "N = np.int(1e6)\n",
    "f1 = 300e3\n",
    "f2 = 330e3\n",
    "N_deltaf = 50\n",
    "U_0 = 1000\n",
    "U_1 = 1100\n",
    "I_0 = 3000\n",
    "I_1 = 2950\n",
    "f = np.concatenate([np.ones(N // 2 - N_deltaf // 2) * f1,\n",
    "                    np.linspace(f1, f2),\n",
    "                    np.ones(N // 2 - N_deltaf // 2) * f2])\n",
    "t = np.arange(N) / fs\n",
    "u = U_0 * np.sin(2 * np.pi * f * t) + 0.02 * U_0 * np.random.randn(N)\n",
    "u[len(u)//2:] = u[len(u)//2:]/U_0*U_1\n",
    "i = I_0 * np.sin(2 * np.pi * f * t - 89 / 180 * np.pi) + 0.02 * I_0 * np.random.randn(N)\n",
    "i[len(i)//2:] = i[len(i)//2:]/I_0*I_1\n",
    "\n",
    "# save data to hdf5\n",
    "np.savez('harmonics.npz', t=t, u=u, i=i)"
   ]
  },
  {
   "cell_type": "code",
   "execution_count": null,
   "metadata": {},
   "outputs": [],
   "source": [
    "with np.load('harmonics.npz') as data:\n",
    "    t = data['t']\n",
    "    u = data['u']\n",
    "    i = data['i']"
   ]
  },
  {
   "cell_type": "markdown",
   "metadata": {},
   "source": [
    "Anschließend sind die Daten in den Variablen `t` für die Abtastzeitpunkte, `u` für die Spannungswerte und `i` für die Stromwerte vorhanden.\n",
    "\n",
    "Stelle die Daten geladenen Daten dar\n",
    "* Spannung auf der linken y-Achse\n",
    "* Strom auf der rechten y-Achse\n",
    "\n",
    "Achten Sie dabei auf korrekte Achsenbeschriftung."
   ]
  },
  {
   "cell_type": "code",
   "execution_count": null,
   "metadata": {
    "tags": [
     "solution"
    ]
   },
   "outputs": [],
   "source": []
  },
  {
   "cell_type": "markdown",
   "metadata": {},
   "source": [
    "### Berechnung der Effektivwerte\n",
    "\n",
    "Nun sollen aus den geladenen Daten die Effektivwerte für eine bestimmte Anzahl (`N = 10000`) von Messwerten iterativ bestimmt werden.\n",
    "\n",
    "Der Effektivwert ist analytisch folgendermaßen definiert:\n",
    "$$X_\\mathrm{eff} = \\sqrt{\\frac{1}{T} \\int\\limits_{t_0}^{t_0 + T} x^2 \\, \\mathrm{d}t}$$\n",
    "Dabei ist $x$ das Zeitsignal und $T$ die Länge eines Fensters.\n",
    "\n",
    "Wir wollen den Effektivwert nurmerisch bestimmen und können ihn daher nährungsweise mittels\n",
    "$$X_\\mathrm{eff} \\approx \\sqrt{\\frac{1}{N} \\sum\\limits_{n = 1}^N x_n^2}$$\n",
    "bestimmen für ein Fenster der Länge `N` bestimmen.\n",
    "\n",
    "Teilaufgaben/-probleme:\n",
    "* Erzeuge dir vorab Matrizen mittels [`numpy.zeros`](https://docs.scipy.org/doc/numpy/reference/generated/numpy.zeros.html) Matrizen für die Effektivwerte von Spannung `u` und Strom`i`.\n",
    "  Die Fenster sollen `N = 10000` Messwerte lang sein, die Größe des Arrays bestimmt sich also über die Division `len(u) // N`\n",
    "* Vergiss nicht auch eine neue Zeit zu berechnen an dem der Effektivwert später in der Grafik eingetragen wird\n",
    "* Überlege dir wie du die korrekte Anzahl Messwerte in `u` und `i` mittels *slicing* ansprichst: https://docs.scipy.org/doc/numpy/reference/arrays.indexing.html\n",
    "* Stelle die Ergebnisse anschließend korrekt beschriftet dar (Spannung links, Strom rechts)"
   ]
  },
  {
   "cell_type": "code",
   "execution_count": null,
   "metadata": {
    "tags": [
     "solution"
    ]
   },
   "outputs": [],
   "source": []
  },
  {
   "cell_type": "code",
   "execution_count": null,
   "metadata": {
    "tags": [
     "solution"
    ]
   },
   "outputs": [],
   "source": []
  },
  {
   "cell_type": "markdown",
   "metadata": {},
   "source": [
    "### Berechnung der Wirkleistung\n",
    "Nun soll die Wirkleistung auch für je eine bestimmte Anzahl Messwerte berechnet werden. Die Wirkleistung ist analytisch folgendermaßen definiert:\n",
    "$$P = \\overline{p} = \\frac{1}{T} \\int\\limits_{t_0}^{t_0 + T} u \\cdot i \\, \\mathrm{d}t$$\n",
    "Numerisch lässt sie sich mittels\n",
    "$$P \\approx \\frac{1}{N} \\sum\\limits_{n = 1}^N u_n \\cdot i_n$$\n",
    "approximieren. Gehe genauso vor wie bei der Wirkleistung."
   ]
  },
  {
   "cell_type": "code",
   "execution_count": null,
   "metadata": {},
   "outputs": [],
   "source": []
  },
  {
   "cell_type": "code",
   "execution_count": null,
   "metadata": {},
   "outputs": [],
   "source": []
  },
  {
   "cell_type": "markdown",
   "metadata": {},
   "source": [
    "### Berechne die Keruzkorrelationsfunktion (KKF) von `u` und `i` für die ersten 2000 Werte der Signale\n",
    "Verwende dabei die correlate funktion aus dem Paket `scipy.singal`.\n",
    "Stellen Sie das Ergebnis in dem Bereich `[-1/f1*60, 1/f1*60]` da. Bestimmen Sie die zeitliche Verzögerung zwischen `u` und `i` aus der Abbildung."
   ]
  },
  {
   "cell_type": "code",
   "execution_count": null,
   "metadata": {
    "tags": [
     "solution"
    ]
   },
   "outputs": [],
   "source": []
  },
  {
   "cell_type": "code",
   "execution_count": null,
   "metadata": {
    "tags": [
     "solution"
    ]
   },
   "outputs": [],
   "source": []
  },
  {
   "cell_type": "markdown",
   "metadata": {},
   "source": [
    "### Bonus: Berechnung des (Kurzzeit-)Spektrums\n",
    "Abschließend soll das Kurzzeitspektrum (STFT) des Signals berechnet werden. Verwende dafür die Funktion [matplotlib.pyplot.specgram](https://matplotlib.org/api/_as_gen/matplotlib.pyplot.specgram.html), variiere dabei den Parameter `NFFT` und `noverlap`."
   ]
  },
  {
   "cell_type": "code",
   "execution_count": null,
   "metadata": {
    "tags": [
     "solution"
    ]
   },
   "outputs": [],
   "source": []
  },
  {
   "cell_type": "code",
   "execution_count": null,
   "metadata": {},
   "outputs": [],
   "source": []
  }
 ],
 "metadata": {
  "kernelspec": {
   "display_name": "Python 3",
   "language": "python",
   "name": "python3"
  },
  "language_info": {
   "codemirror_mode": {
    "name": "ipython",
    "version": 3
   },
   "file_extension": ".py",
   "mimetype": "text/x-python",
   "name": "python",
   "nbconvert_exporter": "python",
   "pygments_lexer": "ipython3",
   "version": "3.6.5"
  },
  "varInspector": {
   "cols": {
    "lenName": 16,
    "lenType": 16,
    "lenVar": 40
   },
   "kernels_config": {
    "python": {
     "delete_cmd_postfix": "",
     "delete_cmd_prefix": "del ",
     "library": "var_list.py",
     "varRefreshCmd": "print(var_dic_list())"
    },
    "r": {
     "delete_cmd_postfix": ") ",
     "delete_cmd_prefix": "rm(",
     "library": "var_list.r",
     "varRefreshCmd": "cat(var_dic_list()) "
    }
   },
   "types_to_exclude": [
    "module",
    "function",
    "builtin_function_or_method",
    "instance",
    "_Feature"
   ],
   "window_display": false
  }
 },
 "nbformat": 4,
 "nbformat_minor": 2
}
