{
 "cells": [
  {
   "cell_type": "markdown",
   "metadata": {
    "slideshow": {
     "slide_type": "slide"
    }
   },
   "source": [
    "# Installation"
   ]
  },
  {
   "cell_type": "markdown",
   "metadata": {
    "slideshow": {
     "slide_type": "subslide"
    }
   },
   "source": [
    "![logo-dark.png](images/logo-dark.png)\n",
    "\n",
    "## Anaconda Distribution\n",
    "\n",
    "1. Download the latest [Anaconda Distribution](https://www.anaconda.com/download/).\n",
    "2. Install it on your local machine. There are no admin rights required."
   ]
  },
  {
   "cell_type": "markdown",
   "metadata": {
    "slideshow": {
     "slide_type": "slide"
    }
   },
   "source": [
    "# CNTLM (Proxy)"
   ]
  },
  {
   "cell_type": "markdown",
   "metadata": {},
   "source": [
    "Go to the open BENTELER-Connect [Python Community](https://connect.ext.benteler.com/communities/service/html/communitystart?communityUuid=c59519b4-5c34-4ea9-9ecf-e5baa77092c3), become a member, and follow the instructions in the Wiki for `Proxy Authentifizierung`."
   ]
  },
  {
   "cell_type": "markdown",
   "metadata": {
    "slideshow": {
     "slide_type": "slide"
    }
   },
   "source": [
    "# Installing and updating packages\n",
    "\n",
    "Anaconda comes with a lot of scientific packages, however if you need an additional package or want to update one, you can use `conda` or `pip`.\n",
    "\n",
    "Before you can install any package from the internet you need to start your cntlm-proxy with the `start_cntlm.bat`."
   ]
  },
  {
   "cell_type": "markdown",
   "metadata": {
    "slideshow": {
     "slide_type": "subslide"
    }
   },
   "source": [
    "## Update Anaconda Distribution\n",
    "\n",
    "Anaconda publishes updates to its whole distribution every few months. Start _Anaconda Prompt_ and update then by\n",
    "\n",
    "```\n",
    "conda update conda\n",
    "conda update anaconda\n",
    "```"
   ]
  },
  {
   "cell_type": "markdown",
   "metadata": {
    "slideshow": {
     "slide_type": "subslide"
    }
   },
   "source": [
    "## Installl new packages\n",
    "\n",
    "Many packages are hosted on [Anaconda Cloud](https://anaconda.org/), you can search there for a package and follow the install instructions.\n",
    "\n",
    "Typically you can install a new package with the following command inside _Anaconda Prompt_:\n",
    "\n",
    "```\n",
    "conda install -c conda-forge tensorflow\n",
    "```\n",
    "or\n",
    "```\n",
    "pip install tensorflow\n",
    "```"
   ]
  },
  {
   "cell_type": "markdown",
   "metadata": {},
   "source": [
    "## Using from PowerShell / Cygwin"
   ]
  },
  {
   "cell_type": "markdown",
   "metadata": {},
   "source": [
    "If you want to use `pip` and `conda` from a proper shell, you have to tell it where to find them by adding them to your `PATH` Environment variable. This can be done in two ways:\n",
    "1. Manually using adding the `Scripts`, `bin` and main anaconda installation folder to your path (Typically `C:\\Users\\YOURUSER\\AppData\\Local\\Continuum\\anaconda3`). Make sure to restart your shell afterwards.\n",
    "2. Activating a Conda environment as described [here](https://conda.io/docs/user-guide/tasks/manage-environments.html)"
   ]
  },
  {
   "cell_type": "markdown",
   "metadata": {
    "slideshow": {
     "slide_type": "slide"
    }
   },
   "source": [
    "# Editors\n",
    "\n",
    "* [Jupyter Notebook](https://jupyter.org/)\n",
    "  * Comes with Anaconda\n",
    "  * This presentation is build inside Jupyter Notebook with [RISE](https://github.com/damianavila/RISE)\n",
    "  * **Use-case**: Bundle code and documentation, Writing scientific reports, interactive data analysis\n",
    "* [Spyder](https://pythonhosted.org/spyder/)\n",
    "  * Comes with Anaconda\n",
    "  * A MATLAB-like IDE\n",
    "* [PyCharm](https://www.jetbrains.com/pycharm/)\n",
    "  * Very powerful IDE with testing, debugger, ...\n",
    "  * **Use-case**: Developing packages\n",
    "* [Visual Studio Code](https://code.visualstudio.com/)\n",
    "  * Open-source text editor from [Microsoft](https://www.microsoft.com/) which can be extended with [plugins](https://marketplace.visualstudio.com/VSCode)\n",
    "  * [Powerful Python Plugin](https://marketplace.visualstudio.com/items?itemName=ms-python.python)"
   ]
  },
  {
   "cell_type": "code",
   "execution_count": null,
   "metadata": {},
   "outputs": [],
   "source": []
  }
 ],
 "metadata": {
  "kernelspec": {
   "display_name": "Python 3",
   "language": "python",
   "name": "python3"
  },
  "language_info": {
   "codemirror_mode": {
    "name": "ipython",
    "version": 3
   },
   "file_extension": ".py",
   "mimetype": "text/x-python",
   "name": "python",
   "nbconvert_exporter": "python",
   "pygments_lexer": "ipython3",
   "version": "3.6.5"
  },
  "varInspector": {
   "cols": {
    "lenName": 16,
    "lenType": 16,
    "lenVar": 40
   },
   "kernels_config": {
    "python": {
     "delete_cmd_postfix": "",
     "delete_cmd_prefix": "del ",
     "library": "var_list.py",
     "varRefreshCmd": "print(var_dic_list())"
    },
    "r": {
     "delete_cmd_postfix": ") ",
     "delete_cmd_prefix": "rm(",
     "library": "var_list.r",
     "varRefreshCmd": "cat(var_dic_list()) "
    }
   },
   "types_to_exclude": [
    "module",
    "function",
    "builtin_function_or_method",
    "instance",
    "_Feature"
   ],
   "window_display": false
  }
 },
 "nbformat": 4,
 "nbformat_minor": 2
}
