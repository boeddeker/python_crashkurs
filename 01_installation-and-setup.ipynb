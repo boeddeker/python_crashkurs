{
 "cells": [
  {
   "cell_type": "markdown",
   "metadata": {
    "slideshow": {
     "slide_type": "slide"
    }
   },
   "source": [
    "# Installation"
   ]
  },
  {
   "cell_type": "markdown",
   "metadata": {
    "slideshow": {
     "slide_type": "subslide"
    }
   },
   "source": [
    "![logo-dark.png](images/logo-dark.png)\n",
    "\n",
    "## Anaconda Distribution\n",
    "\n",
    "1. Download the latest [Anaconda Distribution](https://www.anaconda.com/download/).\n",
    "2. Install it on your local machine. There are no admin rights required."
   ]
  },
  {
   "cell_type": "markdown",
   "metadata": {
    "slideshow": {
     "slide_type": "slide"
    }
   },
   "source": [
    "# CNTLM (Proxy)"
   ]
  },
  {
   "cell_type": "markdown",
   "metadata": {},
   "source": [
    "Go to the open BENTELER-Connect [Python Community](https://connect.ext.benteler.com/communities/service/html/communitystart?communityUuid=c59519b4-5c34-4ea9-9ecf-e5baa77092c3), become a member, and follow the instructions in the Wiki for `Proxy Authentifizierung`."
   ]
  },
  {
   "cell_type": "markdown",
   "metadata": {
    "slideshow": {
     "slide_type": "slide"
    }
   },
   "source": [
    "# Installing and updating packages\n",
    "\n",
    "Anaconda comes with a lot of scientific packages, however if you need an additional package or want to update one, it is recommended to use the package manager [conda](https://conda.io/docs/).\n",
    "\n",
    "Before you can install any package from the internet you need to start your cntlm-proxy with the `cntlm.bat` we created earlier."
   ]
  },
  {
   "cell_type": "markdown",
   "metadata": {
    "slideshow": {
     "slide_type": "subslide"
    }
   },
   "source": [
    "## Update Anaconda Distribution\n",
    "\n",
    "Anaconda publishes updates to its whole distribution every few months. Start _Anaconda Prompt_ and update then by\n",
    "\n",
    "```\n",
    "conda update conda\n",
    "conda update anaconda\n",
    "```"
   ]
  },
  {
   "cell_type": "markdown",
   "metadata": {
    "slideshow": {
     "slide_type": "subslide"
    }
   },
   "source": [
    "## Installl new packages\n",
    "\n",
    "Many packages are hosted on [Anaconda Cloud](https://anaconda.org/), you can search there for a package and follow the install instructions.\n",
    "\n",
    "Typically you can install a new package with the following command inside _Anaconda Prompt_:\n",
    "\n",
    "```\n",
    "conda install -c mrossi jupyter_docx_bundler\n",
    "```\n",
    "\n",
    "Recommended _channels_ are [conda-forge](https://conda-forge.org/) and [mrossi](https://anaconda.org/mrossi)"
   ]
  },
  {
   "cell_type": "markdown",
   "metadata": {
    "slideshow": {
     "slide_type": "subslide"
    }
   },
   "source": [
    "## Define your own package repository\n",
    "\n",
    "We at BENTELER have a few own package repositories which are located on various network shares. To use one of these package repositories you need to know it's path. For example there is a package repository for plant 52, which has the path `W:\\conda`. The package repository is maintained by [Marco Rossi](mailto:marco.rossi@benteler.com).\n",
    "\n",
    "To make conda aware of this repository we need to edit the configuration:\n",
    "\n",
    "1. Open _Anaconda Promt_.\n",
    "2. Type `conda config --append channels file:///W:/conda` to add the channel.\n",
    "3. Navigate to your home folder `C:\\Users\\your-username` with the explorer and open the file `.condarc` with a text editor.\n",
    "4. You should see inside\n",
    "```yaml\n",
    "channels:\n",
    "  - defaults\n",
    "  - file:///W:/conda\n",
    "```"
   ]
  },
  {
   "cell_type": "markdown",
   "metadata": {
    "slideshow": {
     "slide_type": "subslide"
    }
   },
   "source": [
    "5. Add the following lines to give the channel the name `plant-52`:\n",
    "```yaml\n",
    "custom_multichannels:\n",
    "     plant-52: [file:///W:/conda]\n",
    "```\n",
    "6. Save and exit\n",
    "\n",
    "Now you are able to search and install packages from this local repository."
   ]
  },
  {
   "cell_type": "markdown",
   "metadata": {
    "slideshow": {
     "slide_type": "slide"
    }
   },
   "source": [
    "# Editors\n",
    "\n",
    "* [Jupyter Notebook](https://jupyter.org/)\n",
    "  * Comes with Anaconda\n",
    "  * This presentation is build inside Jupyter Notebook with [RISE](https://github.com/damianavila/RISE)\n",
    "  * **Use-case**: Bundle code and documentation, Writing scientific reports, interactive data analysis\n",
    "* [Spyder](https://pythonhosted.org/spyder/)\n",
    "  * Comes with Anaconda\n",
    "  * A MATLAB-like IDE\n",
    "* [PyCharm](https://www.jetbrains.com/pycharm/)\n",
    "  * Very powerful IDE with testing, debugger, ...\n",
    "  * **Use-case**: Developing packages\n",
    "* [Visual Studio Code](https://code.visualstudio.com/)\n",
    "  * Open-source text editor from [Microsoft](https://www.microsoft.com/) which can be extended with [plugins](https://marketplace.visualstudio.com/VSCode)\n",
    "  * [Powerful Python Plugin](https://marketplace.visualstudio.com/items?itemName=ms-python.python)"
   ]
  }
 ],
 "metadata": {
  "kernelspec": {
   "display_name": "Python 3",
   "language": "python",
   "name": "python3"
  },
  "language_info": {
   "codemirror_mode": {
    "name": "ipython",
    "version": 3
   },
   "file_extension": ".py",
   "mimetype": "text/x-python",
   "name": "python",
   "nbconvert_exporter": "python",
   "pygments_lexer": "ipython3",
   "version": "3.6.5"
  }
 },
 "nbformat": 4,
 "nbformat_minor": 2
}
