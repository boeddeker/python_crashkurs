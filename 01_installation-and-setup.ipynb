{
 "cells": [
  {
   "cell_type": "markdown",
   "metadata": {
    "slideshow": {
     "slide_type": "slide"
    }
   },
   "source": [
    "# Installation"
   ]
  },
  {
   "cell_type": "markdown",
   "metadata": {
    "slideshow": {
     "slide_type": "subslide"
    }
   },
   "source": [
    "![logo-dark.png](images/logo-dark.png)\n",
    "\n",
    "## Anaconda Distribution\n",
    "\n",
    "1. Download the latest [Anaconda Distribution](https://www.anaconda.com/download/).\n",
    "2. Install it on your local machine. There are no admin rights required."
   ]
  },
  {
   "cell_type": "markdown",
   "metadata": {
    "slideshow": {
     "slide_type": "subslide"
    }
   },
   "source": [
    "## CNTLM (Proxy)\n",
    "\n",
    "1. Download the latest version of [cntlm](https://sourceforge.net/projects/cntlm/files/cntlm/) as `*.zip`.\n",
    "2. Extract it to a good location, for example your home drive (`N:/`) in a folder called `software`\n",
    "3. Let's assume the software is located at `N:/software/cntlm`"
   ]
  },
  {
   "cell_type": "markdown",
   "metadata": {
    "slideshow": {
     "slide_type": "slide"
    }
   },
   "source": [
    "# Setup"
   ]
  },
  {
   "cell_type": "markdown",
   "metadata": {
    "slideshow": {
     "slide_type": "subslide"
    }
   },
   "source": [
    "## CNTLM (Proxy)\n",
    "\n",
    "1. Navigate to the location of cntlm: `N:/software/cntlm`.\n",
    "2. Open the file `cntlm.ini` and clear the complete content.\n",
    "3. Add the following lines to the file and save.\n",
    "   * Make sure to add one empty line at the end\n",
    "   * Replace `my-username` with  your username\n",
    "\n",
    "```\n",
    "Username\tmy-username\n",
    "Domain      BAD\n",
    "Auth        NTLM\n",
    "PassLM      \n",
    "PassNT      \n",
    "Proxy       vip-webgateway-eu.bad.benteler.net:8080\n",
    "NoProxy     localhost, 127.0.0.*\n",
    "Listen      3128\n",
    "Allow       localhost\n",
    "\n",
    "```"
   ]
  },
  {
   "cell_type": "markdown",
   "metadata": {
    "slideshow": {
     "slide_type": "subslide"
    }
   },
   "source": [
    "4. Open a command prompt (_Eingabeaufforderung_ or `cmd.exe`).\n",
    "5. Navigate to your folder `N:/software/cntlm` with the `cd`-command.\n",
    "6. Execute `cntlm -c cntlm.ini -H`. You will be prompted for your password of your user account.\n",
    "7. Copy the line content of `PassLM` and `PassNT` to the related lines in `cntlm.ini` (Use _right-click_ to copy inside `cmd`) and save.\n",
    "8. Create a file `cntlm.bat` inside the folder and open with an text editor.\n",
    "9. Paste `cntlm.exe -c cntlm.ini -f` inside and save.\n",
    "10. Create two environment variables for the proxy:\n",
    "   * `HTTP_Proxy`: `127.0.0.1:3128`\n",
    "   * `HTTPS_Proxy`: `127.0.0.1:3128`"
   ]
  },
  {
   "cell_type": "markdown",
   "metadata": {
    "slideshow": {
     "slide_type": "subslide"
    }
   },
   "source": [
    "![start-menu](images/start-menu.png)"
   ]
  },
  {
   "cell_type": "markdown",
   "metadata": {
    "slideshow": {
     "slide_type": "subslide"
    }
   },
   "source": [
    "![control-panel](images/control-panel.png)"
   ]
  },
  {
   "cell_type": "markdown",
   "metadata": {
    "slideshow": {
     "slide_type": "subslide"
    }
   },
   "source": [
    "![user](images/user.png)"
   ]
  },
  {
   "cell_type": "markdown",
   "metadata": {
    "slideshow": {
     "slide_type": "subslide"
    }
   },
   "source": [
    "![environment-variables](images/environment-variables.png)"
   ]
  },
  {
   "cell_type": "markdown",
   "metadata": {
    "slideshow": {
     "slide_type": "slide"
    }
   },
   "source": [
    "# Installing and updating packages\n",
    "\n",
    "Anaconda comes with a lot of scientific packages, however if you need an additional package or want to update one, it is recommended to use the package manager [conda](https://conda.io/docs/).\n",
    "\n",
    "Before you can install any package from the internet you need to start your cntlm-proxy with the `cntlm.bat` we created earlier."
   ]
  },
  {
   "cell_type": "markdown",
   "metadata": {
    "slideshow": {
     "slide_type": "subslide"
    }
   },
   "source": [
    "## Update Anaconda Distribution\n",
    "\n",
    "Anaconda publishes updates to its whole distribution every few months. Start _Anaconda Prompt_ and update then by\n",
    "\n",
    "```\n",
    "conda update conda\n",
    "conda update anaconda\n",
    "```"
   ]
  },
  {
   "cell_type": "markdown",
   "metadata": {
    "slideshow": {
     "slide_type": "subslide"
    }
   },
   "source": [
    "## Installl new packages\n",
    "\n",
    "Many packages are hosted on [Anaconda Cloud](https://anaconda.org/), you can search there for a package and follow the install instructions.\n",
    "\n",
    "Typically you can install a new package with the following command inside _Anaconda Prompt_:\n",
    "\n",
    "```\n",
    "conda install -c mrossi jupyter_docx_bundler\n",
    "```\n",
    "\n",
    "Recommended _channels_ are [conda-forge](https://conda-forge.org/) and [mrossi](https://anaconda.org/mrossi)"
   ]
  },
  {
   "cell_type": "markdown",
   "metadata": {
    "slideshow": {
     "slide_type": "subslide"
    }
   },
   "source": [
    "## Define your own package repository\n",
    "\n",
    "We at BENTELER have a few own package repositories which are located on various network shares. To use one of these package repositories you need to know it's path. For example there is a package repository for plant 52, which has the path `W:\\conda`. The package repository is maintained by [Marco Rossi](mailto:marco.rossi@benteler.com).\n",
    "\n",
    "To make conda aware of this repository we need to edit the configuration:\n",
    "\n",
    "1. Open _Anaconda Promt_.\n",
    "2. Type `conda config --append channels file:///W:/conda` to add the channel.\n",
    "3. Navigate to your home folder `C:\\Users\\your-username` with the explorer and open the file `.condarc` with a text editor.\n",
    "4. You should see inside\n",
    "```yaml\n",
    "channels:\n",
    "  - defaults\n",
    "  - file:///W:/conda\n",
    "```"
   ]
  },
  {
   "cell_type": "markdown",
   "metadata": {
    "slideshow": {
     "slide_type": "subslide"
    }
   },
   "source": [
    "5. Add the following lines to give the channel the name `plant-52`:\n",
    "```yaml\n",
    "custom_multichannels:\n",
    "     plant-52: [file:///W:/conda]\n",
    "```\n",
    "6. Save and exit\n",
    "\n",
    "Now you are able to search and install packages from this local repository."
   ]
  },
  {
   "cell_type": "markdown",
   "metadata": {
    "slideshow": {
     "slide_type": "slide"
    }
   },
   "source": [
    "# Editors\n",
    "\n",
    "* [Jupyter Notebook](https://jupyter.org/)\n",
    "  * Comes with Anaconda\n",
    "  * This presentation is build inside Jupyter Notebook with [RISE](https://github.com/damianavila/RISE)\n",
    "  * **Use-case**: Bundle code and documentation, Writing scientific reports, interactive data analysis\n",
    "* [Spyder](https://pythonhosted.org/spyder/)\n",
    "  * Comes with Anaconda\n",
    "  * A MATLAB-like IDE\n",
    "* [PyCharm](https://www.jetbrains.com/pycharm/)\n",
    "  * Very powerful IDE with testing, debugger, ...\n",
    "  * **Use-case**: Developing packages\n",
    "* [Visual Studio Code](https://code.visualstudio.com/)\n",
    "  * Open-source text editor from [Microsoft](https://www.microsoft.com/) which can be extended with [plugins](https://marketplace.visualstudio.com/VSCode)\n",
    "  * [Powerful Python Plugin](https://marketplace.visualstudio.com/items?itemName=ms-python.python)"
   ]
  }
 ],
 "metadata": {
  "kernelspec": {
   "display_name": "Python [default]",
   "language": "python",
   "name": "python3"
  },
  "language_info": {
   "codemirror_mode": {
    "name": "ipython",
    "version": 3
   },
   "file_extension": ".py",
   "mimetype": "text/x-python",
   "name": "python",
   "nbconvert_exporter": "python",
   "pygments_lexer": "ipython3",
   "version": "3.6.5"
  }
 },
 "nbformat": 4,
 "nbformat_minor": 2
}
